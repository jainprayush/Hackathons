{
  "nbformat": 4,
  "nbformat_minor": 0,
  "metadata": {
    "colab": {
      "name": "Untitled1.ipynb",
      "provenance": [],
      "authorship_tag": "ABX9TyNEuY4wx/nGcVvtnnMo9k4a",
      "include_colab_link": true
    },
    "kernelspec": {
      "name": "python3",
      "display_name": "Python 3"
    },
    "language_info": {
      "name": "python"
    }
  },
  "cells": [
    {
      "cell_type": "markdown",
      "metadata": {
        "id": "view-in-github",
        "colab_type": "text"
      },
      "source": [
        "<a href=\"https://colab.research.google.com/github/jainprayush/Hackathons/blob/main/AmazonBusiness.ipynb\" target=\"_parent\"><img src=\"https://colab.research.google.com/assets/colab-badge.svg\" alt=\"Open In Colab\"/></a>"
      ]
    },
    {
      "cell_type": "code",
      "metadata": {
        "id": "7MotiLpMu4AC"
      },
      "source": [
        "import pandas as pd\n",
        "import numpy as np\n",
        "import matplotlib.pyplot as plt\n",
        "import seaborn as sns"
      ],
      "execution_count": 1,
      "outputs": []
    },
    {
      "cell_type": "code",
      "metadata": {
        "id": "LKBoudc4u7S3"
      },
      "source": [
        "#Importing Dataset\n",
        "df = pd.read_csv('https://raw.githubusercontent.com/jainprayush/Hackathons/main/1.%20Amazon/Dataset/Train.csv')"
      ],
      "execution_count": 2,
      "outputs": []
    },
    {
      "cell_type": "code",
      "metadata": {
        "colab": {
          "base_uri": "https://localhost:8080/"
        },
        "id": "jtwKsB4RvqGT",
        "outputId": "df48c5ad-4b63-40ed-f882-4173d95c283a"
      },
      "source": [
        "df.shape"
      ],
      "execution_count": 3,
      "outputs": [
        {
          "output_type": "execute_result",
          "data": {
            "text/plain": [
              "(13645, 22)"
            ]
          },
          "metadata": {
            "tags": []
          },
          "execution_count": 3
        }
      ]
    },
    {
      "cell_type": "code",
      "metadata": {
        "colab": {
          "base_uri": "https://localhost:8080/"
        },
        "id": "Wzgq65hJxb3-",
        "outputId": "0fe5d8bb-168d-4954-87a3-db2dfb8abcd8"
      },
      "source": [
        "df.info"
      ],
      "execution_count": 4,
      "outputs": [
        {
          "output_type": "execute_result",
          "data": {
            "text/plain": [
              "<bound method DataFrame.info of        EmpID  EmpName  ... BiasInfluentialFactor  FitmentPercent\n",
              "0      11041     John  ...      YearsOfExperince           95.40\n",
              "1      15079  William  ...                   NaN           67.09\n",
              "2      18638    James  ...                Gender           91.26\n",
              "3       3941  Charles  ...                Gender           72.29\n",
              "4       5936   George  ...          DegreeBranch           86.34\n",
              "...      ...      ...  ...                   ...             ...\n",
              "13640  19504   Perley  ...                Gender           93.65\n",
              "13641  17071  Randall  ...                   NaN           52.90\n",
              "13642   6659  Raphael  ...    CurrentCompanyType           61.46\n",
              "13643   5986     Reed  ...              EmpScore           93.64\n",
              "13644   4668   Shelby  ...      YearsOfExperince           93.52\n",
              "\n",
              "[13645 rows x 22 columns]>"
            ]
          },
          "metadata": {
            "tags": []
          },
          "execution_count": 4
        }
      ]
    },
    {
      "cell_type": "code",
      "metadata": {
        "colab": {
          "base_uri": "https://localhost:8080/"
        },
        "id": "dCSIdi5Nxdht",
        "outputId": "63d9c186-dfdf-4f78-8741-a697252d3514"
      },
      "source": [
        "df.isnull().sum()"
      ],
      "execution_count": 5,
      "outputs": [
        {
          "output_type": "execute_result",
          "data": {
            "text/plain": [
              "EmpID                         0\n",
              "EmpName                       0\n",
              "LanguageOfCommunication       0\n",
              "Age                           0\n",
              "Gender                        0\n",
              "JobProfileIDApplyingFor       0\n",
              "HighestDegree                 0\n",
              "DegreeBranch                  0\n",
              "GraduatingInstitute           0\n",
              "LatestDegreeCGPA              0\n",
              "YearsOfExperince              0\n",
              "GraduationYear                0\n",
              "CurrentCTC                    0\n",
              "ExpectedCTC                   0\n",
              "MartialStatus                 0\n",
              "EmpScore                      0\n",
              "CurrentDesignation            0\n",
              "CurrentCompanyType            0\n",
              "DepartmentInCompany           0\n",
              "TotalLeavesTaken              0\n",
              "BiasInfluentialFactor      3336\n",
              "FitmentPercent                0\n",
              "dtype: int64"
            ]
          },
          "metadata": {
            "tags": []
          },
          "execution_count": 5
        }
      ]
    },
    {
      "cell_type": "code",
      "metadata": {
        "id": "WFpucfXrxipT"
      },
      "source": [
        ""
      ],
      "execution_count": null,
      "outputs": []
    }
  ]
}